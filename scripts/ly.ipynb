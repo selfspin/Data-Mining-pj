{
 "cells": [
  {
   "cell_type": "code",
   "execution_count": 4,
   "metadata": {},
   "outputs": [
    {
     "name": "stdout",
     "output_type": "stream",
     "text": [
      "x:\\elearning\\Data Mining\\Final\\Data-Mining-pj\\scripts\n",
      "x:\\elearning\\Data Mining\\Final\\Data-Mining-pj\n",
      "Raw data loading finished. Including 8378 records.\n"
     ]
    }
   ],
   "source": [
    "import numpy as np\n",
    "import pandas as pd\n",
    "import seaborn as sns\n",
    "import matplotlib.pyplot as plt\n",
    "import sys  \n",
    "import os \n",
    "current_directory = os.getcwd()\n",
    "print(current_directory)\n",
    "my_folder_path = os.path.dirname(os.path.join('..',current_directory))\n",
    "print(my_folder_path)\n",
    "sys.path.append(my_folder_path)\n",
    "from utils.preprocess import *\n",
    "df=load_data('../data/speed_data_data.csv')"
   ]
  },
  {
   "cell_type": "code",
   "execution_count": 5,
   "metadata": {},
   "outputs": [
    {
     "name": "stderr",
     "output_type": "stream",
     "text": [
      "x:\\elearning\\Data Mining\\Final\\Data-Mining-pj\\utils\\preprocess.py:38: SettingWithCopyWarning: \n",
      "A value is trying to be set on a copy of a slice from a DataFrame\n",
      "\n",
      "See the caveats in the documentation: https://pandas.pydata.org/pandas-docs/stable/user_guide/indexing.html#returning-a-view-versus-a-copy\n",
      "  data.loc[idx][\"career\"] = \"nan\"\n"
     ]
    }
   ],
   "source": [
    "df =combine_career(df)\n",
    "no_income_df, income_df = partial_by_income(data)\n",
    "no_income_df, income_df = truncate_nan(no_income_data), truncate_nan(income_data)"
   ]
  },
  {
   "cell_type": "code",
   "execution_count": 8,
   "metadata": {},
   "outputs": [
    {
     "data": {
      "text/plain": [
       "0          lawyer\n",
       "1          lawyer\n",
       "2          lawyer\n",
       "3          lawyer\n",
       "4          lawyer\n",
       "          ...    \n",
       "8373    academics\n",
       "8374    academics\n",
       "8375    academics\n",
       "8376    academics\n",
       "8377    academics\n",
       "Name: career, Length: 8378, dtype: object"
      ]
     },
     "execution_count": 8,
     "metadata": {},
     "output_type": "execute_result"
    }
   ],
   "source": [
    "df_combine['career']"
   ]
  },
  {
   "cell_type": "code",
   "execution_count": null,
   "metadata": {},
   "outputs": [],
   "source": []
  }
 ],
 "metadata": {
  "kernelspec": {
   "display_name": "Python 3",
   "language": "python",
   "name": "python3"
  },
  "language_info": {
   "codemirror_mode": {
    "name": "ipython",
    "version": 3
   },
   "file_extension": ".py",
   "mimetype": "text/x-python",
   "name": "python",
   "nbconvert_exporter": "python",
   "pygments_lexer": "ipython3",
   "version": "3.10.10"
  }
 },
 "nbformat": 4,
 "nbformat_minor": 2
}
